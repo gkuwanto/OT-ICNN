{
 "cells": [
  {
   "cell_type": "code",
   "execution_count": 1,
   "id": "b2c80baa",
   "metadata": {},
   "outputs": [],
   "source": [
    "import torch\n",
    "import threading\n",
    "import time\n",
    "import pyrender\n",
    "import numpy as np\n",
    "import optimal_transport_modules\n",
    "import matplotlib.pyplot as plt\n",
    "import trimesh\n",
    "from optimal_transport_modules.icnn_modules import *"
   ]
  },
  {
   "cell_type": "code",
   "execution_count": 2,
   "id": "cf5c10c8",
   "metadata": {},
   "outputs": [],
   "source": [
    "convex_f = Simple_Feedforward_3Layer_ICNN_LastInp_Quadratic(3, 1024, \"leaky_relu\")\n",
    "convex_g = Simple_Feedforward_3Layer_ICNN_LastInp_Quadratic(3, 1024, \"leaky_relu\")"
   ]
  },
  {
   "cell_type": "code",
   "execution_count": 3,
   "id": "3f57a7c8",
   "metadata": {},
   "outputs": [
    {
     "data": {
      "text/plain": [
       "<All keys matched successfully>"
      ]
     },
     "execution_count": 3,
     "metadata": {},
     "output_type": "execute_result"
    }
   ],
   "source": [
    "convex_g.load_state_dict(torch.load(\"/Users/adrish/research/582/icnn/OT-ICNN/High_dim_experiments/Result_Sphere_Torus/convex_g_epoch_16.pt\",  map_location=torch.device('cpu')))\n",
    "convex_f.load_state_dict(torch.load(\"/Users/adrish/research/582/icnn/OT-ICNN/High_dim_experiments/Result_Sphere_Torus/convex_f_epoch_16.pt\",  map_location=torch.device('cpu')))"
   ]
  },
  {
   "cell_type": "code",
   "execution_count": 4,
   "id": "c2d2f780",
   "metadata": {},
   "outputs": [
    {
     "data": {
      "text/plain": [
       "Simple_Feedforward_3Layer_ICNN_LastInp_Quadratic(\n",
       "  (fc1_normal): Linear(in_features=3, out_features=1024, bias=True)\n",
       "  (activ_1): LeakyReLU(negative_slope=0.2)\n",
       "  (fc2_normal): Linear(in_features=3, out_features=1024, bias=True)\n",
       "  (fc2_convex): ConvexLinear(in_features=1024, out_features=1024, bias=False)\n",
       "  (activ_2): LeakyReLU(negative_slope=0.2)\n",
       "  (fc3_normal): Linear(in_features=3, out_features=1024, bias=True)\n",
       "  (fc3_convex): ConvexLinear(in_features=1024, out_features=1024, bias=False)\n",
       "  (activ_3): LeakyReLU(negative_slope=0.2)\n",
       "  (last_convex): ConvexLinear(in_features=1024, out_features=1, bias=False)\n",
       "  (last_linear): Linear(in_features=3, out_features=1, bias=True)\n",
       ")"
      ]
     },
     "execution_count": 4,
     "metadata": {},
     "output_type": "execute_result"
    }
   ],
   "source": [
    "convex_f"
   ]
  },
  {
   "cell_type": "code",
   "execution_count": 5,
   "id": "80ca9f67",
   "metadata": {},
   "outputs": [],
   "source": [
    "# def get_sphere_samples(num_samples=1000):\n",
    "#     point_cloud = []\n",
    "#     for i in range(num_samples):\n",
    "#         theta, phi = torch.empty(2).uniform_(0, 2 * np.pi)\n",
    "#         x = np.sin(theta) * np.cos(phi)\n",
    "#         y = torch.cos(theta) * torch.cos(phi)\n",
    "#         z = torch.sin(phi)\n",
    "#         point_cloud.append(torch.stack([x, y, z]))\n",
    "#     point_cloud = torch.vstack(point_cloud)\n",
    "#     return point_cloud\n",
    "\n",
    "# def get_torus_samples(num_samples=1000):\n",
    "#   point_cloud = []\n",
    "#   for i in range(num_samples):\n",
    "#     theta, phi = torch.empty(2).uniform_(0, 2 * np.pi)\n",
    "#     x = (1 + 0.5 * torch.cos(theta)) * torch.cos(phi)\n",
    "#     y = (1 + 0.5 * torch.cos(theta)) * torch.sin(phi)\n",
    "#     z = 0.5 * torch.sin(theta)\n",
    "#     point_cloud.append(torch.stack([x, y, z]))\n",
    "#   point_cloud = torch.vstack(point_cloud)\n",
    "#   return point_cloud\n",
    "\n",
    "# torus_samples = torch.autograd.Variable(get_torus_samples(), requires_grad=True)\n",
    "# samples = torch.autograd.Variable(get_sphere_samples(), requires_grad=True)"
   ]
  },
  {
   "cell_type": "code",
   "execution_count": 6,
   "id": "5a56ee3c",
   "metadata": {},
   "outputs": [],
   "source": [
    "def get_volume_samples(num_samples, condition):\n",
    "    samples = []\n",
    "    while True:\n",
    "        sample = torch.empty(3).uniform_(-3, 3)\n",
    "        if condition(sample):\n",
    "            samples.append(sample)\n",
    "        if len(samples) == num_samples:\n",
    "            return torch.vstack(samples)\n",
    "def sphere_condition(sample, radius=1):\n",
    "    return (torch.linalg.norm(sample) - radius) <= 0\n",
    "\n",
    "def torus_condition(sample, rh=1, rt=0.5):\n",
    "    q = [torch.linalg.norm(sample[[0, 2]]) - rh, sample[1]]\n",
    "    q = torch.stack(q)\n",
    "    dist = torch.linalg.norm(q) - rt\n",
    "    return dist <= 0\n",
    "samples = get_volume_samples(1000, sphere_condition)\n",
    "samples = torch.autograd.Variable(samples, requires_grad=True)\n",
    "torus_samples = get_volume_samples(1000, torus_condition)\n",
    "torus_samples = torch.autograd.Variable(torus_samples, requires_grad=True)"
   ]
  },
  {
   "cell_type": "code",
   "execution_count": 7,
   "id": "2eb159f0",
   "metadata": {},
   "outputs": [],
   "source": [
    "def get_scene(samples):\n",
    "    return trimesh.Scene(trimesh.Trimesh(vertices=samples.detach().numpy()))"
   ]
  },
  {
   "cell_type": "code",
   "execution_count": 8,
   "id": "03200918",
   "metadata": {},
   "outputs": [],
   "source": [
    "import time\n",
    "import open3d as o3d\n",
    "\n",
    "def animate(vis, source, target, steps = 100):\n",
    "  geometry = o3d.geometry.PointCloud()\n",
    "  step = 1 / steps\n",
    "  while True:\n",
    "      for interp in np.arange(0, 1 + step, step):\n",
    "        current = (1 - interp) * source + interp * target\n",
    "        geometry.points = o3d.utility.Vector3dVector(current.detach().numpy())\n",
    "        geometry.paint_uniform_color(np.array([0., 0., 0.]))\n",
    "        if interp == 0:\n",
    "          vis.add_geometry(geometry)\n",
    "        else:\n",
    "          vis.update_geometry(geometry)\n",
    "          vis.get_view_control().set_zoom(0.3)\n",
    "\n",
    "          vis.poll_events()\n",
    "          vis.update_renderer()\n",
    "        time.sleep(0.1)"
   ]
  },
  {
   "cell_type": "code",
   "execution_count": 9,
   "id": "e0983d8f",
   "metadata": {},
   "outputs": [],
   "source": [
    "def show(samples):\n",
    "    trimesh.PointCloud(samples.detach().numpy()).show(viewer=\"gl\")"
   ]
  },
  {
   "cell_type": "code",
   "execution_count": 10,
   "id": "2b78e63f",
   "metadata": {},
   "outputs": [],
   "source": [
    "def transport(sample, func):\n",
    "    potential = func(sample).sum()\n",
    "    transported_samples = torch.autograd.grad(potential, sample, create_graph=True)[0]\n",
    "    return transported_samples"
   ]
  },
  {
   "cell_type": "code",
   "execution_count": null,
   "id": "1f06a74c",
   "metadata": {
    "scrolled": true
   },
   "outputs": [
    {
     "name": "stdout",
     "output_type": "stream",
     "text": [
      "\u001b[1;33m[Open3D WARNING] GLFW Error: Cocoa: Failed to find service port for display\u001b[0;m\n",
      "\u001b[1;33m[Open3D WARNING] GLFW Error: Cocoa: Failed to find service port for display\u001b[0;m\n"
     ]
    }
   ],
   "source": [
    "transported_samples = transport(samples, convex_f)\n",
    "vis = o3d.visualization.Visualizer()\n",
    "vis.create_window()\n",
    "animate(vis, samples, transported_samples)"
   ]
  },
  {
   "cell_type": "code",
   "execution_count": null,
   "id": "cf2497c4",
   "metadata": {},
   "outputs": [],
   "source": [
    "vis.destroy_window()"
   ]
  },
  {
   "cell_type": "code",
   "execution_count": 19,
   "id": "315bbd41",
   "metadata": {},
   "outputs": [],
   "source": [
    "show(transported_samples)"
   ]
  },
  {
   "cell_type": "code",
   "execution_count": 12,
   "id": "423b6ed4",
   "metadata": {},
   "outputs": [],
   "source": [
    "update_fn = animate(torus_samples, transported_samples, steps=100)\n",
    "thr = threading.Thread(target=my_thread, args=(update_fn,))\n",
    "thr.start()"
   ]
  }
 ],
 "metadata": {
  "kernelspec": {
   "display_name": "Python 3 (ipykernel)",
   "language": "python",
   "name": "python3"
  },
  "language_info": {
   "codemirror_mode": {
    "name": "ipython",
    "version": 3
   },
   "file_extension": ".py",
   "mimetype": "text/x-python",
   "name": "python",
   "nbconvert_exporter": "python",
   "pygments_lexer": "ipython3",
   "version": "3.8.16"
  }
 },
 "nbformat": 4,
 "nbformat_minor": 5
}
